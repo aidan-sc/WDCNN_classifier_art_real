{
  "cells": [
    {
      "cell_type": "markdown",
      "metadata": {
        "id": "view-in-github",
        "colab_type": "text"
      },
      "source": [
        "<a href=\"https://colab.research.google.com/github/aidan-sc/WDCNN_classifier_art_real/blob/main/WDCNN_classifier_art_real.ipynb\" target=\"_parent\"><img src=\"https://colab.research.google.com/assets/colab-badge.svg\" alt=\"Open In Colab\"/></a>"
      ]
    },
    {
      "cell_type": "markdown",
      "id": "82b5be2e-bf06-4fca-a12a-ee6d11f6236c",
      "metadata": {
        "id": "82b5be2e-bf06-4fca-a12a-ee6d11f6236c"
      },
      "source": [
        "## Data preprocessing"
      ]
    },
    {
      "cell_type": "code",
      "source": [
        "from google.colab import drive\n",
        "drive.mount('/content/drive')\n",
        "\n",
        "import os\n",
        "print(f\"cwd:{os.getcwd()}\")\n",
        "\n",
        "if os.getcwd() != 'content/drive/MyDrive/paderborn':\n",
        "  os.chdir('./drive/MyDrive/paderborn')"
      ],
      "metadata": {
        "id": "g0Ho4HGvROgD"
      },
      "id": "g0Ho4HGvROgD",
      "execution_count": null,
      "outputs": []
    },
    {
      "cell_type": "code",
      "execution_count": null,
      "id": "1068b362-f7d9-4ad4-a029-bfac21d2e283",
      "metadata": {
        "id": "1068b362-f7d9-4ad4-a029-bfac21d2e283"
      },
      "outputs": [],
      "source": [
        "import numpy as np\n",
        "\n",
        "from paderborn_data_loader_mixture import PaderbornData as PaderbornDataMixture\n",
        "from paderborn_data_loader_art_real import PaderbornData"
      ]
    },
    {
      "cell_type": "code",
      "execution_count": null,
      "id": "0baed5e2-8584-4abb-b268-7332028b156c",
      "metadata": {
        "id": "0baed5e2-8584-4abb-b268-7332028b156c"
      },
      "outputs": [],
      "source": [
        "import time\n",
        "\n",
        "start_time = time.time()"
      ]
    },
    {
      "cell_type": "markdown",
      "id": "1cf618b6-d37b-4d4c-9efa-78f3428a603a",
      "metadata": {
        "id": "1cf618b6-d37b-4d4c-9efa-78f3428a603a"
      },
      "source": [
        "### Split the Paderborn bearing data into training and testing sets"
      ]
    },
    {
      "cell_type": "code",
      "execution_count": null,
      "id": "7842d151-ee4b-44f1-9742-480665bf11c4",
      "metadata": {
        "id": "7842d151-ee4b-44f1-9742-480665bf11c4"
      },
      "outputs": [],
      "source": [
        "root_dir = './data/raw/'\n",
        "experimentMixture = PaderbornData(root_dir, experiment='artificial', datastream='vibration', normalisation='robust-zscore')\n",
        "x_train, y_train, _, _ = experimentMixture.split_data(250000,\n",
        "                                                         train_fraction=1,\n",
        "                                                         window_step=1024,\n",
        "                                                         window_length=4500,\n",
        "                                                         verbose=False)"
      ]
    },
    {
      "cell_type": "code",
      "source": [
        "print(x_train.shape)\n",
        "print(y_train.shape)"
      ],
      "metadata": {
        "id": "JZoLjzvfYVLL"
      },
      "id": "JZoLjzvfYVLL",
      "execution_count": null,
      "outputs": []
    },
    {
      "cell_type": "code",
      "source": [
        "experiment = PaderbornData(root_dir, experiment='real', datastream='vibration', normalisation='robust-zscore')\n",
        "_, _, x_test, y_test = experiment.split_data(250000,\n",
        "                                                         train_fraction=0,\n",
        "                                                         window_step=1024,\n",
        "                                                         window_length=4500,\n",
        "                                                         verbose=False)"
      ],
      "metadata": {
        "id": "NVeMAtspVfNv"
      },
      "id": "NVeMAtspVfNv",
      "execution_count": null,
      "outputs": []
    },
    {
      "cell_type": "code",
      "execution_count": null,
      "id": "09d387f6-3e7a-45a9-aab0-c26ce09fcb32",
      "metadata": {
        "id": "09d387f6-3e7a-45a9-aab0-c26ce09fcb32"
      },
      "outputs": [],
      "source": [
        "print(x_test.shape)\n",
        "print(y_test.shape)"
      ]
    },
    {
      "cell_type": "code",
      "execution_count": null,
      "id": "6cf15d93-c664-4e65-9ec3-f298260771cc",
      "metadata": {
        "id": "6cf15d93-c664-4e65-9ec3-f298260771cc"
      },
      "outputs": [],
      "source": []
    },
    {
      "cell_type": "markdown",
      "id": "694b77ea-7693-49ab-ad99-8dc40539a46a",
      "metadata": {
        "id": "694b77ea-7693-49ab-ad99-8dc40539a46a"
      },
      "source": [
        "## Train our WDCNN model\n",
        "\n",
        "### First split the data, scale it, and convert labels to one hot encoding"
      ]
    },
    {
      "cell_type": "code",
      "execution_count": null,
      "id": "7786d99c-d506-43ea-80d0-b68f7da7af30",
      "metadata": {
        "id": "7786d99c-d506-43ea-80d0-b68f7da7af30"
      },
      "outputs": [],
      "source": [
        "import pandas as pd\n",
        "import numpy as np\n",
        "import os\n",
        "\n",
        "import matplotlib.pyplot as plt\n",
        "\n",
        "import tensorflow as tf"
      ]
    },
    {
      "cell_type": "code",
      "execution_count": null,
      "id": "6fd06706-50cf-4afb-9954-46c464e5c14c",
      "metadata": {
        "id": "6fd06706-50cf-4afb-9954-46c464e5c14c"
      },
      "outputs": [],
      "source": [
        "from tensorflow.keras.utils import to_categorical\n",
        "\n",
        "y_train = to_categorical(y_train)\n",
        "y_test = to_categorical(y_test)"
      ]
    },
    {
      "cell_type": "code",
      "execution_count": null,
      "id": "8159a97e-a57e-417a-9b88-545752cde565",
      "metadata": {
        "id": "8159a97e-a57e-417a-9b88-545752cde565"
      },
      "outputs": [],
      "source": []
    },
    {
      "cell_type": "markdown",
      "id": "80104235-d9ed-4e5d-89e3-cddaaaa50056",
      "metadata": {
        "id": "80104235-d9ed-4e5d-89e3-cddaaaa50056"
      },
      "source": [
        "### Build our WDCNN model"
      ]
    },
    {
      "cell_type": "code",
      "execution_count": null,
      "id": "c4ebed56-3feb-4a1e-9640-7e78eab68be3",
      "metadata": {
        "id": "c4ebed56-3feb-4a1e-9640-7e78eab68be3"
      },
      "outputs": [],
      "source": [
        "from tensorflow.keras.models import Model\n",
        "\n",
        "from tensorflow.keras.layers import Input\n",
        "from tensorflow.keras.layers import Dense\n",
        "from tensorflow.keras.layers import Activation\n",
        "from tensorflow.keras.layers import Conv1D\n",
        "from tensorflow.keras.layers import BatchNormalization\n",
        "from tensorflow.keras.layers import Flatten\n",
        "from tensorflow.keras.layers import MaxPooling1D\n",
        "\n",
        "from tensorflow.keras.layers import Dropout\n",
        "\n",
        "\n",
        "# build the wdcnn model\n",
        "def generate_model(n_class, n_timesteps, n_variables, first_kernel=64):\n",
        "\n",
        "    # set up the shape of the input\n",
        "    ip = Input(shape=(n_timesteps, n_variables))\n",
        "\n",
        "    # convolutional layers\n",
        "    y = Conv1D(16, (first_kernel), strides=16, padding='same')(ip)\n",
        "    y = Activation('relu')(y)\n",
        "    y = BatchNormalization()(y)\n",
        "    y = MaxPooling1D(2, strides=2, padding='same')(y)\n",
        "\n",
        "    y = Conv1D(32, (3), padding='same')(y)\n",
        "    y = Activation('relu')(y)\n",
        "    y = BatchNormalization()(y)\n",
        "    y = MaxPooling1D(2, strides=2, padding='same')(y)\n",
        "\n",
        "    y = Conv1D(64, (3), padding='same')(y)\n",
        "    y = Activation('relu')(y)\n",
        "    y = BatchNormalization()(y)\n",
        "    y = MaxPooling1D(2, strides=2, padding='same')(y)\n",
        "\n",
        "    y = Conv1D(64, (3), padding='same')(y)\n",
        "    y = Activation('relu')(y)\n",
        "    y = BatchNormalization()(y)\n",
        "    y = MaxPooling1D(2, strides=2, padding='same')(y)\n",
        "\n",
        "    y = Conv1D(64, (3), padding='same')(y)\n",
        "    y = Activation('relu')(y)\n",
        "    y = BatchNormalization()(y)\n",
        "    y = MaxPooling1D(2, strides=2, padding='same')(y)\n",
        "\n",
        "    # flatten\n",
        "    y = Flatten()(y)\n",
        "\n",
        "    # dense\n",
        "    y = Dense(100)(y)\n",
        "    y = BatchNormalization()(y)\n",
        "\n",
        "    # add the softmax classification outpuy\n",
        "    out = Dense(n_class, activation='softmax')(y)\n",
        "\n",
        "    # join the input and the output and return the model\n",
        "    model = Model(ip, out)\n",
        "    return model\n"
      ]
    },
    {
      "cell_type": "code",
      "execution_count": null,
      "id": "79ca736a-d4df-4afa-be7b-efd679c44bb7",
      "metadata": {
        "id": "79ca736a-d4df-4afa-be7b-efd679c44bb7"
      },
      "outputs": [],
      "source": [
        "model = generate_model(3, x_train.shape[1], x_train.shape[2], first_kernel=256)"
      ]
    },
    {
      "cell_type": "code",
      "execution_count": null,
      "id": "e967fd0f-1e35-475f-95c2-1de7b0961bf0",
      "metadata": {
        "id": "e967fd0f-1e35-475f-95c2-1de7b0961bf0"
      },
      "outputs": [],
      "source": []
    },
    {
      "cell_type": "markdown",
      "id": "11da108e-00a4-4dae-bd8a-9e4cb50b3b64",
      "metadata": {
        "id": "11da108e-00a4-4dae-bd8a-9e4cb50b3b64"
      },
      "source": [
        "### Train the model"
      ]
    },
    {
      "cell_type": "code",
      "execution_count": null,
      "id": "7f60b9cb-cd81-4569-8d23-1d9cda139054",
      "metadata": {
        "id": "7f60b9cb-cd81-4569-8d23-1d9cda139054"
      },
      "outputs": [],
      "source": [
        "model.compile(optimizer=\"adam\", loss=\"categorical_crossentropy\", metrics='acc')"
      ]
    },
    {
      "cell_type": "code",
      "execution_count": null,
      "id": "45baea20-e7dd-447a-bc81-09a1bebe82b7",
      "metadata": {
        "id": "45baea20-e7dd-447a-bc81-09a1bebe82b7"
      },
      "outputs": [],
      "source": [
        "val_dataset = tf.data.Dataset.from_tensor_slices((x_test, y_test)).batch(64)\n",
        "history = model.fit(x_train, y_train, batch_size=64, epochs=20, validation_data=val_dataset)"
      ]
    },
    {
      "cell_type": "code",
      "execution_count": null,
      "id": "1d349a23-1334-470d-8e04-bbe1b1719193",
      "metadata": {
        "id": "1d349a23-1334-470d-8e04-bbe1b1719193"
      },
      "outputs": [],
      "source": []
    },
    {
      "cell_type": "markdown",
      "id": "43346de0-ff94-465e-a591-75e1325c67ab",
      "metadata": {
        "id": "43346de0-ff94-465e-a591-75e1325c67ab"
      },
      "source": [
        "### Plot some results"
      ]
    },
    {
      "cell_type": "markdown",
      "source": [],
      "metadata": {
        "id": "vduuGU6VqPxu"
      },
      "id": "vduuGU6VqPxu"
    },
    {
      "cell_type": "code",
      "execution_count": null,
      "id": "fa1d703b-8eb1-4abc-aee8-b12b4217895e",
      "metadata": {
        "id": "fa1d703b-8eb1-4abc-aee8-b12b4217895e"
      },
      "outputs": [],
      "source": [
        "# summarize history for accuracy\n",
        "plt.plot(history.history['acc'])\n",
        "plt.plot(history.history['val_acc'])\n",
        "plt.title('model accuracy')\n",
        "plt.ylabel('accuracy')\n",
        "plt.xlabel('epoch')\n",
        "plt.legend(['train', 'test'], loc='upper left')\n",
        "plt.show()"
      ]
    },
    {
      "cell_type": "code",
      "execution_count": null,
      "id": "5888c08b-9ae7-411b-b734-855408fe48fd",
      "metadata": {
        "id": "5888c08b-9ae7-411b-b734-855408fe48fd"
      },
      "outputs": [],
      "source": [
        "# summarize history for loss\n",
        "plt.plot(history.history['loss'])\n",
        "plt.plot(history.history['val_loss'])\n",
        "plt.title('model loss')\n",
        "plt.ylabel('loss')\n",
        "plt.xlabel('epoch')\n",
        "plt.legend(['train', 'test'], loc='upper left')\n",
        "plt.show()"
      ]
    },
    {
      "cell_type": "code",
      "execution_count": null,
      "id": "cccbd980-4154-44a4-846c-9fa5f8384ea2",
      "metadata": {
        "id": "cccbd980-4154-44a4-846c-9fa5f8384ea2"
      },
      "outputs": [],
      "source": [
        "loss, acc = model.evaluate(val_dataset)\n",
        "print(\"loss: %.2f\" % loss)\n",
        "print(\"acc:  %.2f\" % acc)"
      ]
    },
    {
      "cell_type": "code",
      "execution_count": null,
      "id": "30f589f9-6296-4fce-989d-9b354bafc70e",
      "metadata": {
        "id": "30f589f9-6296-4fce-989d-9b354bafc70e"
      },
      "outputs": [],
      "source": []
    },
    {
      "cell_type": "markdown",
      "id": "d01dfc5e-a3e4-464b-8214-74ea5c433faa",
      "metadata": {
        "id": "d01dfc5e-a3e4-464b-8214-74ea5c433faa"
      },
      "source": [
        "### Get the confusion matrix to see what we struggle with"
      ]
    },
    {
      "cell_type": "code",
      "execution_count": null,
      "id": "ea3997e6-2f1c-436d-b7f9-b3aa1302d314",
      "metadata": {
        "id": "ea3997e6-2f1c-436d-b7f9-b3aa1302d314"
      },
      "outputs": [],
      "source": [
        "\"\"\"\n",
        "visualisation_utils.py\n",
        "\n",
        "make pretty graphs to show classifier performance\n",
        "\n",
        "(most of these are based on the really useful examples from the\n",
        "scikit learn user guides!)\n",
        "\n",
        "author:     alex shenfield\n",
        "date:       27/04/2018\n",
        "\"\"\"\n",
        "\n",
        "# numpy is needed for everything :)\n",
        "import numpy as np\n",
        "import matplotlib.pyplot as plt\n",
        "\n",
        "# utilities for managing the data\n",
        "import itertools\n",
        "\n",
        "# data analysis functions from scikit learn\n",
        "from sklearn.metrics import confusion_matrix\n",
        "\n",
        "\n",
        "# get the classes and actually plot the confusion matrix\n",
        "def plot_confusion_matrix(y_true, y_pred):\n",
        "\n",
        "    cm = confusion_matrix(y_true, y_pred)\n",
        "    classes = np.unique(y_true)\n",
        "    plot_cm(cm, classes=classes, title=None)\n",
        "\n",
        "\n",
        "# define a function for plotting a confusion matrix\n",
        "def plot_cm(cm,\n",
        "            classes,\n",
        "            normalize=False,\n",
        "            title='Confusion matrix',\n",
        "            cmap=plt.cm.Blues):\n",
        "\n",
        "    # should we normalise the confusion matrix?\n",
        "    if normalize:\n",
        "        cm = cm.astype('float') / cm.sum(axis=1)[:, np.newaxis]\n",
        "        print('Confusion matrix, with normalization')\n",
        "    else:\n",
        "        print('Confusion matrix, without normalization')\n",
        "\n",
        "    # display in command windows\n",
        "    print(cm)\n",
        "\n",
        "    # create a plot for the confusion matrix\n",
        "    plt.imshow(cm, interpolation='nearest', cmap=cmap)\n",
        "    plt.colorbar()\n",
        "    tick_marks = np.arange(len(classes))\n",
        "    plt.xticks(tick_marks, classes, rotation=45)\n",
        "    plt.yticks(tick_marks, classes)\n",
        "\n",
        "    # if we want a title displayed\n",
        "    if title:\n",
        "        plt.title(title)\n",
        "\n",
        "    fmt = '.3f' if normalize else 'd'\n",
        "    thresh = cm.max() / 2.\n",
        "    for i, j in itertools.product(range(cm.shape[0]), range(cm.shape[1])):\n",
        "        plt.text(j, i, format(cm[i, j], fmt),\n",
        "                 horizontalalignment=\"center\",\n",
        "                 color=\"white\" if cm[i, j] > thresh else \"black\")\n",
        "\n",
        "    #plt.tight_layout()\n",
        "    plt.ylabel('True label')\n",
        "    plt.xlabel('Predicted label')"
      ]
    },
    {
      "cell_type": "code",
      "execution_count": null,
      "id": "15b10c41-92b1-4e3b-8169-3b53c51a5d44",
      "metadata": {
        "id": "15b10c41-92b1-4e3b-8169-3b53c51a5d44"
      },
      "outputs": [],
      "source": [
        "predictions = model.predict(val_dataset)\n",
        "print(predictions.shape)"
      ]
    },
    {
      "cell_type": "code",
      "execution_count": null,
      "id": "5fe5f2d9-b080-427f-b08d-8371584f3e21",
      "metadata": {
        "id": "5fe5f2d9-b080-427f-b08d-8371584f3e21"
      },
      "outputs": [],
      "source": [
        "y_true = np.argmax(y_test, axis=1)\n",
        "y_pred = np.argmax(predictions, axis=1)\n",
        "print(y_true.shape)\n",
        "print(y_pred.shape)"
      ]
    },
    {
      "cell_type": "code",
      "execution_count": null,
      "id": "e877e6db-94c7-4d38-b361-ea87f752fb02",
      "metadata": {
        "id": "e877e6db-94c7-4d38-b361-ea87f752fb02"
      },
      "outputs": [],
      "source": [
        "plot_confusion_matrix(y_true, y_pred)"
      ]
    },
    {
      "cell_type": "code",
      "source": [
        "end_time = time.time()\n",
        "\n",
        "print(end_time - start_time)"
      ],
      "metadata": {
        "id": "kfEOmFwRSPSd"
      },
      "id": "kfEOmFwRSPSd",
      "execution_count": null,
      "outputs": []
    }
  ],
  "metadata": {
    "kernelspec": {
      "display_name": "Python 3",
      "name": "python3"
    },
    "language_info": {
      "codemirror_mode": {
        "name": "ipython",
        "version": 3
      },
      "file_extension": ".py",
      "mimetype": "text/x-python",
      "name": "python",
      "nbconvert_exporter": "python",
      "pygments_lexer": "ipython3",
      "version": "3.9.15"
    },
    "colab": {
      "provenance": [],
      "machine_shape": "hm",
      "gpuType": "V100",
      "include_colab_link": true
    },
    "accelerator": "GPU"
  },
  "nbformat": 4,
  "nbformat_minor": 5
}